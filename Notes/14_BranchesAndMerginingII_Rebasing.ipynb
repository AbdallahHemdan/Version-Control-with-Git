{
 "cells": [
  {
   "cell_type": "markdown",
   "metadata": {},
   "source": [
    "# Branching and Merging II: Rebasing"
   ]
  },
  {
   "cell_type": "markdown",
   "metadata": {},
   "source": [
    "## Rebasing\n",
    "\n",
    "1. Rebasing Overview\n",
    "    - The topics discussed here rewrite the commit history\n",
    "    - This should be done with caution\n",
    "    - General Rule: **Do not rewrite history that has been shared with others**\n",
    "    - Two Types of Rebase:\n",
    "        - Rebase and Interactive Rebase\n",
    "    - Rebase:\n",
    "        - Moves commit to a new parent (base)\n",
    "            - The unique commits of the freatureX bracnh (B and C) are reapplied to the top of the master branch (D)\n",
    "            - Because the ancestor chain is different, each of the reapplied commits has a different commit ID (B' and C')\n",
    "        - <img src=\"./images/git_42.png\" width=\"400\">\n",
    "    - Diffs\n",
    "        - Each commit contains a snapshot of the complete project\n",
    "        - Git can calculate the difference between commits\n",
    "            - This is know as a *diff* or a *patch*\n",
    "    - Rebasing Reapplies Commits\n",
    "        - When rebasing, Git applies the diffs to the new parent commit \n",
    "            - This is called \"reapplying commits\"\n",
    "            - <img src=\"./images/git_43.png\" width=\"400\">\n",
    "\n",
    "\n",
    "2. Executing a Rebase (`git rebase <upstream>`)\n",
    "    - Changes the parent of the currently checked out branch to `<upstream>`\n",
    "    - `git rebase <upstream> <branch>`\n",
    "        - Check out `<branch>` and changes its parent `<upstream>`\n",
    "        - This is convenience to avoid issuing two commands\n",
    "        - *Upstream usually refers the parent branch of the rebased branch*\n",
    "        - <img src=\"./images/git_44.png\" width=\"400\">\n",
    "\n",
    "\n",
    "3. Rebasing a Merge Conflicts\n",
    "    - Fixing a Merge Conflict While Rebasing\n",
    "        - Files with conflicts are modified by Git in the working tree\n",
    "            - Run `git status` to see which files have been modified\n",
    "            - <img src=\"./images/git_45.png\" width=\"400\">\n",
    "            - In the screenshot above, we can tell that `HEAD` is the parent of `feature` but there was a commit on `master` in the meantime!\n",
    "    - Aborting  a Rebase\n",
    "        - Use `git rebase --abort` to get back to the pre-rebase state\n",
    "    - <img src=\"./images/git_46.png\" width=\"400\">\n"
   ]
  }
 ],
 "metadata": {
  "hide_input": false,
  "kernelspec": {
   "display_name": "Python 3",
   "language": "python",
   "name": "python3"
  },
  "language_info": {
   "codemirror_mode": {
    "name": "ipython",
    "version": 3
   },
   "file_extension": ".py",
   "mimetype": "text/x-python",
   "name": "python",
   "nbconvert_exporter": "python",
   "pygments_lexer": "ipython3",
   "version": "3.7.3"
  },
  "toc": {
   "base_numbering": 1,
   "nav_menu": {},
   "number_sections": false,
   "sideBar": true,
   "skip_h1_title": true,
   "title_cell": "Table of Contents",
   "title_sidebar": "Contents",
   "toc_cell": false,
   "toc_position": {},
   "toc_section_display": true,
   "toc_window_display": false
  },
  "varInspector": {
   "cols": {
    "lenName": 16,
    "lenType": 16,
    "lenVar": 40
   },
   "kernels_config": {
    "python": {
     "delete_cmd_postfix": "",
     "delete_cmd_prefix": "del ",
     "library": "var_list.py",
     "varRefreshCmd": "print(var_dic_list())"
    },
    "r": {
     "delete_cmd_postfix": ") ",
     "delete_cmd_prefix": "rm(",
     "library": "var_list.r",
     "varRefreshCmd": "cat(var_dic_list()) "
    }
   },
   "types_to_exclude": [
    "module",
    "function",
    "builtin_function_or_method",
    "instance",
    "_Feature"
   ],
   "window_display": false
  }
 },
 "nbformat": 4,
 "nbformat_minor": 2
}
