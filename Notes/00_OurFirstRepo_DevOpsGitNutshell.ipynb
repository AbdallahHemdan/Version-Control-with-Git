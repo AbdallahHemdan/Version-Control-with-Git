{
 "cells": [
  {
   "cell_type": "markdown",
   "metadata": {},
   "source": [
    "# Our First Repository: DevOps and Git in a Nutshell"
   ]
  },
  {
   "cell_type": "markdown",
   "metadata": {},
   "source": [
    "## DevOps and Git in a Nutshell\n",
    "\n",
    "1. Continous Improvement\n",
    "    - Plan and build small improvements to your product\n",
    "    - Small batch size leads to continuous improvement\n",
    "    - Small batch size also applies to improvement in features\n",
    "    - This is a different approach than planning all the requried steps before making any modifications \n",
    "    \n",
    "    \n",
    "2. Managing project versions\n",
    "    - Git Commits:\n",
    "        - Git manages versions of projects\n",
    "        - Each version of a project is called a commit\n",
    "        - If there are two different versions of code (one with a bug and one without a bug), then Commit A contains a bug and Commit B does contain the bug\n",
    "        - If there are 50 files of code for our project, then we can assume that 49 files are identical for both commits with the exception of the no bug/bug code \n",
    "    - Is Git Efficient?\n",
    "        - Each commit is a snapshot of the entire project\n",
    "        - Git is very efficient at storing commits\n",
    "            - Each unique file is stored only once\n",
    "            - This is helpful because in the previous example, there will 50 files that are the same for both commits. The only difference is that Commit B would have one more file... with the the bug fixes\n",
    "    - Project History\n",
    "        - The collection of commits contain the history of the project\n",
    "            - You can review the history\n",
    "            - You can undo a change\n",
    "        - In the new feature example, we can go from Commit A (without feature) to Commit B (with feature), back to Commit C (without the feature) if we wanted to!\n",
    "        \n",
    "        \n",
    "3. Branches\n",
    "    - All commits belong to a branch\n",
    "    - Think of a branch as an independent line of development of the project\n",
    "    - By default, there is a single branch and it is called master\n",
    "    - <img src=\"./images/git_00.png\" width=\"200\">\n",
    "    - Creating Branches:\n",
    "        - In order to maintain a stable workable project, we have to create separate branches and thus, we can work on improvements without distrupting the stability of the current project\n",
    "        - The master bracnh does not know about \"featureX\" branch\n",
    "        - <img src=\"./images/git_01.png\" width=\"200\">\n",
    "    - Independence:\n",
    "        - The flexability with branches allows team to work on different components of the product and thus, allowing team to scale their work\n",
    "        - <img src=\"./images/git_02.png\" width=\"200\">\n",
    "\n",
    "\n",
    "4. Pull Requests:\n",
    "    - Merging\n",
    "        - After a merge, the master branch contains a new feature (\"featureX\")\n",
    "        - This occurs after we branch out of the main branch and work on the new feature or fixing a bug... and only after we are confident with the improvement, we update the master branch (which could be the branch that is in actual productino)\n",
    "        - <img src=\"./images/git_03.png\" width=\"200\">\n",
    "        - In the image above, the master branch has no idea that a Commit C exists... as it part of another branch\n",
    "        - Only when the Commit C is merged to the master branch, that the master branch will contain the feature added in Commit C!\n",
    "    - Pull Requests\n",
    "        - Requests to merge your branch into another branch\n",
    "        - It's asking permisssion from the \"featureX\" branch to the master branch that it will like to be included in the master branch!\n",
    "        - Team members can discuss, review, and approve your changes\n",
    "        - Can require passing automated tests before its gets merged into the master branch\n",
    "        \n",
    "    \n",
    "**The collection of commits contain the project's history.**"
   ]
  },
  {
   "cell_type": "markdown",
   "metadata": {},
   "source": [
    "## Review: DevOps and Git in a Nutshell\n",
    "- Commits: Continous improvements\n",
    "- Branches: Simultaneous stability and development\n",
    "- Pull requests: Improved quality\n"
   ]
  }
 ],
 "metadata": {
  "hide_input": false,
  "kernelspec": {
   "display_name": "Python 3",
   "language": "python",
   "name": "python3"
  },
  "language_info": {
   "codemirror_mode": {
    "name": "ipython",
    "version": 3
   },
   "file_extension": ".py",
   "mimetype": "text/x-python",
   "name": "python",
   "nbconvert_exporter": "python",
   "pygments_lexer": "ipython3",
   "version": "3.7.3"
  },
  "toc": {
   "base_numbering": 1,
   "nav_menu": {
    "height": "151px",
    "width": "324px"
   },
   "number_sections": false,
   "sideBar": true,
   "skip_h1_title": true,
   "title_cell": "Table of Contents",
   "title_sidebar": "Contents",
   "toc_cell": false,
   "toc_position": {},
   "toc_section_display": true,
   "toc_window_display": false
  },
  "varInspector": {
   "cols": {
    "lenName": 16,
    "lenType": 16,
    "lenVar": 40
   },
   "kernels_config": {
    "python": {
     "delete_cmd_postfix": "",
     "delete_cmd_prefix": "del ",
     "library": "var_list.py",
     "varRefreshCmd": "print(var_dic_list())"
    },
    "r": {
     "delete_cmd_postfix": ") ",
     "delete_cmd_prefix": "rm(",
     "library": "var_list.r",
     "varRefreshCmd": "cat(var_dic_list()) "
    }
   },
   "types_to_exclude": [
    "module",
    "function",
    "builtin_function_or_method",
    "instance",
    "_Feature"
   ],
   "window_display": false
  }
 },
 "nbformat": 4,
 "nbformat_minor": 2
}
