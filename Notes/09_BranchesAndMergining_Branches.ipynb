{
 "cells": [
  {
   "cell_type": "markdown",
   "metadata": {},
   "source": [
    "# Branching and Merging I: Branches"
   ]
  },
  {
   "cell_type": "markdown",
   "metadata": {},
   "source": [
    "## Branches\n",
    "\n",
    "1. Branch Overview\n",
    "    - All commits of a project belong to a branch\n",
    "    - A branch is a set of commits that trace back to the project's first commit\n",
    "    - Benefits of branches\n",
    "        - Fast and easy to create\n",
    "        - Enable experimentation\n",
    "        - Enable team development\n",
    "        - Support multiple project versions\n",
    "    - Topic and Long-Running Branches\n",
    "        - Topic: A feature, a bug fix, a hotfix, a configuration change, etc\n",
    "        - Long-lived: master, develop, release\n",
    "        - The great thing about branches is that they are flexible enough to work with many types of workflows\n",
    "    - Viewing Branches\n",
    "        - Use `git branch` to see a list of branches\n",
    "    \n",
    "\n",
    "2. Creating a Branch\n",
    "    - Creating a Branch Using `git branch <name>`\n",
    "        - Once you want to create a branch, you can specify that a branch will be created\n",
    "        - However, you must realize that once a branch is created, it does not imply that the HEAD will reference the new branch created\n",
    "        - <img src=\"./images/git_19.png\" width=\"400\">\n",
    "        \n",
    "\n",
    "3. Checkout\n",
    "    - Checkout updates the HEAD reference so it refers to the Master Branch label\n",
    "    - Checkout also updates the working tree with the commit's files\n",
    "    - <img src=\"./images/git_20.png\" width=\"400\">\n",
    "    - Use `git checkout <branch_or_commit>` to checkout a branch or commit\n",
    "        - To checkout a branch, specify the branch name as the argument\n",
    "        - To checkout a commit, specify the SHA-1 as an argument\n",
    "    - `git checkout featureX` must be used if you want the HEAD reference to specify the new created branch\n",
    "    - As a more simple and straight-forward command prompt, you can use `git checkout -b featureX`\n",
    "        - The `-b` flag option combines two commands (`git branch` and `git checkout`\n",
    "    - <img src=\"./images/git_29.png\" width=\"400\">\n",
    "    \n",
    "\n",
    "4. Detached HEAD\n",
    "    - As mentioned before, you do not have to use `git checkout` only on a branch label... it also possible to `git checkout` a commit\n",
    "    - You might want to `git checkout` a commit because you would like to view previous older version of the project\n",
    "    - The `HEAD` references should be pointing towards the latest commit (i.e. Master) but if it's \"Checked Out\" on an older commit, then the `HEAD` reference is no longer referencing the latest commit (detached from the branch label)\n",
    "    - When a specific commit (not the latest commit) is checked out instead of a branch is what's called a \"detached HEAD\"\n",
    "    - Ideally, you do not want to be in a \"Detached HEAD\" because you can override the latest commit\n",
    "    - Thus, you should create/update a branch label reference, and then you can Merge it to the latest commit\n",
    "\n",
    "\n",
    "5. Deleting a Branch Label\n",
    "    - `git branch -d featureX`\n",
    "    - Typically, deleting a branch label does not entail that a commit is deleted but a reference label is deleted!\n",
    "    - The command above (lower case `-d`), we refer to the deletion of a branch \n",
    "    - <img src=\"./images/git_21.png\" width=\"400\">\n",
    "    - The screenshot above works fine because we have merged the new featureX with the master branch\n",
    "    - However, if you have a new branch that has new commits that has not merged with the master branch, Git will normally not allow because the new commits will not be disregarded\n",
    "    - To delete a commit that is not merged with the master branch, use `git branch -D featureX`\n",
    "    - Commit d will have no label and thus, once Git starts deleting dangling commits (have no label), Commit D could get permanently deleted\n",
    "    - <img src=\"./images/git_22.png\" width=\"200\">\n",
    "    - Another neat idea is that if we accidentally deleted a branch label reference, leaving a danging commit, there's a possibility of undoing the deletion\n",
    "        - Once its deleted, use `git reflog`\n",
    "        - Once you use `git reflog` you should be able to find the SHA-1\n",
    "        - `git checkout -b featureX <SHA_1>`\n",
    "        \n",
    "        \n"
   ]
  },
  {
   "cell_type": "markdown",
   "metadata": {},
   "source": [
    "## Review:\n",
    "- A branch is a set of commits that trace back to the project's first commit\n",
    "- Creating a branch created a branch label\n",
    "- Checkout involves updating HEAD and updating the working tree\n",
    "- A detached HEAD reference points directly to a commit \n",
    "- Fix a detached HEAD by creating a branch\n",
    "- Deleting a branch deleted a branch label\n",
    "- Dangling commits will eventually be garbage collected"
   ]
  }
 ],
 "metadata": {
  "hide_input": false,
  "kernelspec": {
   "display_name": "Python 3",
   "language": "python",
   "name": "python3"
  },
  "language_info": {
   "codemirror_mode": {
    "name": "ipython",
    "version": 3
   },
   "file_extension": ".py",
   "mimetype": "text/x-python",
   "name": "python",
   "nbconvert_exporter": "python",
   "pygments_lexer": "ipython3",
   "version": "3.7.3"
  },
  "toc": {
   "base_numbering": 1,
   "nav_menu": {},
   "number_sections": false,
   "sideBar": true,
   "skip_h1_title": true,
   "title_cell": "Table of Contents",
   "title_sidebar": "Contents",
   "toc_cell": false,
   "toc_position": {},
   "toc_section_display": true,
   "toc_window_display": false
  },
  "varInspector": {
   "cols": {
    "lenName": 16,
    "lenType": 16,
    "lenVar": 40
   },
   "kernels_config": {
    "python": {
     "delete_cmd_postfix": "",
     "delete_cmd_prefix": "del ",
     "library": "var_list.py",
     "varRefreshCmd": "print(var_dic_list())"
    },
    "r": {
     "delete_cmd_postfix": ") ",
     "delete_cmd_prefix": "rm(",
     "library": "var_list.r",
     "varRefreshCmd": "cat(var_dic_list()) "
    }
   },
   "types_to_exclude": [
    "module",
    "function",
    "builtin_function_or_method",
    "instance",
    "_Feature"
   ],
   "window_display": false
  }
 },
 "nbformat": 4,
 "nbformat_minor": 2
}
