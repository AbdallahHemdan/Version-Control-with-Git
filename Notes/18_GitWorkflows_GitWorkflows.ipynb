{
 "cells": [
  {
   "cell_type": "markdown",
   "metadata": {},
   "source": [
    "# Git Workflows: Git Workflows\n"
   ]
  },
  {
   "cell_type": "markdown",
   "metadata": {},
   "source": [
    "## Git Workflows\n",
    "\n",
    "1. Centralized workflow\n",
    "    - Only a single branch\n",
    "    - No pull request/discussion\n",
    "    - Everyone has a copy of the project history\n",
    "    - Everything gets push to the master branch\n",
    "    - Pull requests are not being taken advantage with this workflow!\n",
    "    - <img src=\"./images/git_52.png\" width=\"400\">\n",
    "\n",
    "\n",
    "2. Feature branch workflow\n",
    "    - Work done on feature/topic branches\n",
    "    - Single remote repo\n",
    "    - Team member create feature brancges and can submit their working using pull requests\n",
    "    - <img src=\"./images/git_53.png\" width=\"400\">\n",
    "\n",
    "\n",
    "3. Forking workflow\n",
    "    - Multiple remote repo\n",
    "    - Pull requests are used\n",
    "    - Don't need to write access on upstream\n",
    "    - Backs up your work in progress\n",
    "    - This is currently how we run our workflow\n",
    "    - Can rebase your forked branch\n",
    "    - Remember how the two remote repos (master) and your local remote repo (that's remote) when push origin can get out of sync. Thus, it is important to pull the master branch to get the most recent changes from the master!\n",
    "    - **MUST SYNC WITH UPSTREAM**\n",
    "    \n",
    "\n",
    "4. Gitflow workflow\n",
    "    - It's neat because it allow team to work even when there are a number of new feature branches created\n",
    "    - You can include long running branches and short-lived branches\n",
    "    - In the screenshot below, the master and develop branches are the only branches that are long-lived!\n",
    "    - Notice how some branches are created just so they can be an exact copy on the long-lived branches (commit D to commit E are technically the exact same commit)!\n",
    "    - <img src=\"./images/git_54.png\" width=\"400\">\n"
   ]
  },
  {
   "cell_type": "markdown",
   "metadata": {},
   "source": [
    "## Review: Git Workflows\n",
    "- A centralized workflow involved working on a single branch\n",
    "- In a feature branch workflow, work of the project is done on feature/topic branches and then merged into longer running branches\n",
    "- In a forking workflow, work is added upstream using pull requests from the forked repo\n",
    "- Gitflow workflows enable continuous train of prject releases using multiple types of branches\n"
   ]
  }
 ],
 "metadata": {
  "hide_input": false,
  "kernelspec": {
   "display_name": "Python 3",
   "language": "python",
   "name": "python3"
  },
  "language_info": {
   "codemirror_mode": {
    "name": "ipython",
    "version": 3
   },
   "file_extension": ".py",
   "mimetype": "text/x-python",
   "name": "python",
   "nbconvert_exporter": "python",
   "pygments_lexer": "ipython3",
   "version": "3.7.3"
  },
  "toc": {
   "base_numbering": 1,
   "nav_menu": {},
   "number_sections": false,
   "sideBar": true,
   "skip_h1_title": true,
   "title_cell": "Table of Contents",
   "title_sidebar": "Contents",
   "toc_cell": false,
   "toc_position": {},
   "toc_section_display": true,
   "toc_window_display": false
  },
  "varInspector": {
   "cols": {
    "lenName": 16,
    "lenType": 16,
    "lenVar": 40
   },
   "kernels_config": {
    "python": {
     "delete_cmd_postfix": "",
     "delete_cmd_prefix": "del ",
     "library": "var_list.py",
     "varRefreshCmd": "print(var_dic_list())"
    },
    "r": {
     "delete_cmd_postfix": ") ",
     "delete_cmd_prefix": "rm(",
     "library": "var_list.r",
     "varRefreshCmd": "cat(var_dic_list()) "
    }
   },
   "types_to_exclude": [
    "module",
    "function",
    "builtin_function_or_method",
    "instance",
    "_Feature"
   ],
   "window_display": false
  }
 },
 "nbformat": 4,
 "nbformat_minor": 2
}
