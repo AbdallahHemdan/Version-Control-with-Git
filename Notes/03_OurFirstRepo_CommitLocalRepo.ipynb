{
 "cells": [
  {
   "cell_type": "markdown",
   "metadata": {},
   "source": [
    "# Our First Repository - Commit to a Local Repository"
   ]
  },
  {
   "cell_type": "markdown",
   "metadata": {},
   "source": [
    "## Commit to a Local Repository\n",
    "\n",
    "1. `git status`\n",
    "    - Use `git status` to view the status of files in a working tree and staging area\n",
    "    - A quick example `git status -s`, allows us to get the status but in shorter statement\n",
    "\n",
    "\n",
    "2. `git add`\n",
    "    - Use `git add` to add files or directories to the staging area\n",
    "\n",
    "\n",
    "3. `git commit` \n",
    "    - Adds staged content to the local repository as a commit\n",
    "    - Previously committed files are also included\n",
    "    - Created a snapshot of the entire project\n",
    "    - Another reminder is that the the `-m` simply means a flag for message (`git commit -m \"message\"`)\n",
    "\n",
    "\n",
    "4. `git log`\n",
    "    - Use `git log` to view the history of the commit\n",
    "    - `git log --oneline` to view the limit the history of the commit to the most recent\n",
    "    - `git log --oneline -2` where \"2\" represents the the number of commits you desired to print\n",
    "    \n",
    "<img src=\"./images/git_05.png\" width=\"400\">"
   ]
  },
  {
   "cell_type": "markdown",
   "metadata": {},
   "source": [
    "## Review: Commit to a Local Repository\n",
    "\n",
    "- `git status`: view the status of files in the working tree and staging area\n",
    "- `git add`: add untracked or modified files to the staging area\n",
    "- `git commit`: creates a snapshot of the current project\n",
    "- `git log`: view the commit history"
   ]
  }
 ],
 "metadata": {
  "hide_input": false,
  "kernelspec": {
   "display_name": "Python 3",
   "language": "python",
   "name": "python3"
  },
  "language_info": {
   "codemirror_mode": {
    "name": "ipython",
    "version": 3
   },
   "file_extension": ".py",
   "mimetype": "text/x-python",
   "name": "python",
   "nbconvert_exporter": "python",
   "pygments_lexer": "ipython3",
   "version": "3.7.3"
  },
  "toc": {
   "base_numbering": 1,
   "nav_menu": {},
   "number_sections": false,
   "sideBar": true,
   "skip_h1_title": true,
   "title_cell": "Table of Contents",
   "title_sidebar": "Contents",
   "toc_cell": false,
   "toc_position": {},
   "toc_section_display": true,
   "toc_window_display": false
  },
  "varInspector": {
   "cols": {
    "lenName": 16,
    "lenType": 16,
    "lenVar": 40
   },
   "kernels_config": {
    "python": {
     "delete_cmd_postfix": "",
     "delete_cmd_prefix": "del ",
     "library": "var_list.py",
     "varRefreshCmd": "print(var_dic_list())"
    },
    "r": {
     "delete_cmd_postfix": ") ",
     "delete_cmd_prefix": "rm(",
     "library": "var_list.r",
     "varRefreshCmd": "cat(var_dic_list()) "
    }
   },
   "types_to_exclude": [
    "module",
    "function",
    "builtin_function_or_method",
    "instance",
    "_Feature"
   ],
   "window_display": false
  }
 },
 "nbformat": 4,
 "nbformat_minor": 2
}
