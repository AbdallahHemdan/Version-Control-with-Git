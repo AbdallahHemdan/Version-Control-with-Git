{
 "cells": [
  {
   "cell_type": "markdown",
   "metadata": {},
   "source": [
    "# Our First Repository - Push to a Remote Repository"
   ]
  },
  {
   "cell_type": "markdown",
   "metadata": {},
   "source": [
    "## Push to a Remote Repository\n",
    "\n",
    "1. Remotes: `git clone` vs. `git remote add`\n",
    "    - There are two methods to start with a remote repository\n",
    "        - Have a local repo?\n",
    "            - No: Then you would need to `clone` the remote repository\n",
    "            - Yes: Then you would need to `add` the remote repository\n",
    "\n",
    "\n",
    "2. Clone a remote repository\n",
    "    - `git clone`\n",
    "        - Used to create a local copy of the remote repository\n",
    "        - <img src=\"./images/git_06.png\" width=\"200\">\n",
    "    - `git remote --v` (v stands for verbose)\n",
    "        - Displays information about remote repositories associated with the local repository\n",
    "\n",
    "\n",
    "3. Add a remote repository to a local repository\n",
    "    - `git remote add <name> <url>`\n",
    "    - Adds information from the remote repo to the local repo\n",
    "    - The two repos can then be synchronized aliases instead of URLS\n",
    "\n",
    "\n",
    "4. Push commits to a remote repository\n",
    "    - Remember that all commits belong to a branch\n",
    "    - `git push` writes commits for a branch to a remote repo\n",
    "        - This is done to share the work with the team\n",
    "    - `git push [-u] [<repository>] [<branch>]\n",
    "        - `<repository>` can be a name (shortcut) or URL\n",
    "        - `-u` sets up a tracking relationship between the local and remote branches\n",
    "        - `-u` sets the default remote branch for the current local branch."
   ]
  },
  {
   "cell_type": "markdown",
   "metadata": {},
   "source": [
    "## Review: Push to a Remote Repository\n",
    "- Remember to consider whether it a local repo or not."
   ]
  }
 ],
 "metadata": {
  "hide_input": false,
  "kernelspec": {
   "display_name": "Python 3",
   "language": "python",
   "name": "python3"
  },
  "language_info": {
   "codemirror_mode": {
    "name": "ipython",
    "version": 3
   },
   "file_extension": ".py",
   "mimetype": "text/x-python",
   "name": "python",
   "nbconvert_exporter": "python",
   "pygments_lexer": "ipython3",
   "version": "3.7.3"
  },
  "toc": {
   "base_numbering": 1,
   "nav_menu": {},
   "number_sections": false,
   "sideBar": true,
   "skip_h1_title": true,
   "title_cell": "Table of Contents",
   "title_sidebar": "Contents",
   "toc_cell": false,
   "toc_position": {},
   "toc_section_display": true,
   "toc_window_display": false
  },
  "varInspector": {
   "cols": {
    "lenName": 16,
    "lenType": 16,
    "lenVar": 40
   },
   "kernels_config": {
    "python": {
     "delete_cmd_postfix": "",
     "delete_cmd_prefix": "del ",
     "library": "var_list.py",
     "varRefreshCmd": "print(var_dic_list())"
    },
    "r": {
     "delete_cmd_postfix": ") ",
     "delete_cmd_prefix": "rm(",
     "library": "var_list.r",
     "varRefreshCmd": "cat(var_dic_list()) "
    }
   },
   "types_to_exclude": [
    "module",
    "function",
    "builtin_function_or_method",
    "instance",
    "_Feature"
   ],
   "window_display": false
  }
 },
 "nbformat": 4,
 "nbformat_minor": 2
}
