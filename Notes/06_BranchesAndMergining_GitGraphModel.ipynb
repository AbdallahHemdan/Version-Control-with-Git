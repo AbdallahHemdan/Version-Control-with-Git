{
 "cells": [
  {
   "cell_type": "markdown",
   "metadata": {},
   "source": [
    "# Branching and Merging I: Git's Graph Model"
   ]
  },
  {
   "cell_type": "markdown",
   "metadata": {},
   "source": [
    "## Git's Graph Model\n",
    "\n",
    "1. Directed Acyclic Graph\n",
    "    - A way to model connected things\n",
    "    - Contains nodes connected by edges\n",
    "    - Nodes with arrows indicated that they are connected in a certain direction\n",
    "    - Directions depends on how you define a relationship\n",
    "        - <img src=\"./images/git_08.png\" width=\"200\">\n",
    "    - *Acyclic* means that there is no cycles or non circular... or intutively, it means that the connection do not intersect one another\n",
    "        - <img src=\"./images/git_09.png\" width=\"200\">\n",
    "    - Contains nodes connected with arrows and has no cycles\n",
    "        - <img src=\"./images/git_10.png\" width=\"200\">\n",
    "\n",
    "2. Git's DAG\n",
    "    - Git models the relationship of commits with a DAG\n",
    "    - The arrows point at a commit's parent(s)\n",
    "    - Branch: Occurs if a commit has more than one child\n",
    "        - <img src=\"./images/git_11.png\" width=\"200\">\n",
    "    - Merge: Occurs when a commit has more than one parent\n",
    "        - <img src=\"./images/git_12.png\" width=\"200\">\n",
    "    - In Git Clients, recall that the most recent commits are at the top!\n",
    "        - <img src=\"./images/git_13.png\" width=\"200\">\n",
    "        - <img src=\"./images/git_14.png\" width=\"200\">\n"
   ]
  },
  {
   "cell_type": "markdown",
   "metadata": {},
   "source": [
    "## Review: Git's Graph Model\n",
    "\n",
    "- Git uses a directed acyclic graph (DAG) to represent commit history\n",
    "- Commits points to their parents commits"
   ]
  }
 ],
 "metadata": {
  "hide_input": false,
  "kernelspec": {
   "display_name": "Python 3",
   "language": "python",
   "name": "python3"
  },
  "language_info": {
   "codemirror_mode": {
    "name": "ipython",
    "version": 3
   },
   "file_extension": ".py",
   "mimetype": "text/x-python",
   "name": "python",
   "nbconvert_exporter": "python",
   "pygments_lexer": "ipython3",
   "version": "3.7.3"
  },
  "toc": {
   "base_numbering": 1,
   "nav_menu": {},
   "number_sections": false,
   "sideBar": true,
   "skip_h1_title": true,
   "title_cell": "Table of Contents",
   "title_sidebar": "Contents",
   "toc_cell": false,
   "toc_position": {},
   "toc_section_display": true,
   "toc_window_display": false
  },
  "varInspector": {
   "cols": {
    "lenName": 16,
    "lenType": 16,
    "lenVar": 40
   },
   "kernels_config": {
    "python": {
     "delete_cmd_postfix": "",
     "delete_cmd_prefix": "del ",
     "library": "var_list.py",
     "varRefreshCmd": "print(var_dic_list())"
    },
    "r": {
     "delete_cmd_postfix": ") ",
     "delete_cmd_prefix": "rm(",
     "library": "var_list.r",
     "varRefreshCmd": "cat(var_dic_list()) "
    }
   },
   "types_to_exclude": [
    "module",
    "function",
    "builtin_function_or_method",
    "instance",
    "_Feature"
   ],
   "window_display": false
  }
 },
 "nbformat": 4,
 "nbformat_minor": 2
}
