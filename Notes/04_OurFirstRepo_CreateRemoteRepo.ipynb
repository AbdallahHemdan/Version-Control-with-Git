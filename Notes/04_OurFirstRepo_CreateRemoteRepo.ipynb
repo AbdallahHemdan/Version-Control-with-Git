{
 "cells": [
  {
   "cell_type": "markdown",
   "metadata": {},
   "source": [
    "# Our First Repository - Create a Remote Repository"
   ]
  },
  {
   "cell_type": "markdown",
   "metadata": {},
   "source": [
    "## Create a Remote Repository\n",
    "\n",
    "1. What is a remote repository?\n",
    "    - A remote repository is often a \"bare\" repository\n",
    "    - By convention, remote repository ends with .git\n",
    "        - https.//bitbucket.org/team-name/repoa.git\n",
    "    - It is usually professionally managed\n",
    "    - Typically they are Bitbucket or GitHub\n",
    "\n",
    "\n",
    "2. Create a remote repository\n",
    "    - You can do it on the UI for GitHub or Bitbucket.\n",
    "\n",
    "\n",
    "3. Import a remote repository\n",
    "    - To import a repo, you can use the import function in Bitbucket or GitHub. Use their website direction to effectively import a remote repo."
   ]
  },
  {
   "cell_type": "markdown",
   "metadata": {},
   "source": [
    "## Review: Create a Remote Repository\n",
    "\n",
    "- A remote repository is a bare repository\n",
    "- Often serves as the project's source of thruth\n",
    "- Hosting providers make creating remote repositories easy"
   ]
  }
 ],
 "metadata": {
  "hide_input": false,
  "kernelspec": {
   "display_name": "Python 3",
   "language": "python",
   "name": "python3"
  },
  "language_info": {
   "codemirror_mode": {
    "name": "ipython",
    "version": 3
   },
   "file_extension": ".py",
   "mimetype": "text/x-python",
   "name": "python",
   "nbconvert_exporter": "python",
   "pygments_lexer": "ipython3",
   "version": "3.7.3"
  },
  "toc": {
   "base_numbering": 1,
   "nav_menu": {},
   "number_sections": false,
   "sideBar": true,
   "skip_h1_title": true,
   "title_cell": "Table of Contents",
   "title_sidebar": "Contents",
   "toc_cell": false,
   "toc_position": {},
   "toc_section_display": true,
   "toc_window_display": false
  },
  "varInspector": {
   "cols": {
    "lenName": 16,
    "lenType": 16,
    "lenVar": 40
   },
   "kernels_config": {
    "python": {
     "delete_cmd_postfix": "",
     "delete_cmd_prefix": "del ",
     "library": "var_list.py",
     "varRefreshCmd": "print(var_dic_list())"
    },
    "r": {
     "delete_cmd_postfix": ") ",
     "delete_cmd_prefix": "rm(",
     "library": "var_list.r",
     "varRefreshCmd": "cat(var_dic_list()) "
    }
   },
   "types_to_exclude": [
    "module",
    "function",
    "builtin_function_or_method",
    "instance",
    "_Feature"
   ],
   "window_display": false
  }
 },
 "nbformat": 4,
 "nbformat_minor": 2
}
