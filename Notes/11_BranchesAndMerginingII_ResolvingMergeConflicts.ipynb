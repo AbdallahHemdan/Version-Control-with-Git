{
 "cells": [
  {
   "cell_type": "markdown",
   "metadata": {},
   "source": [
    "# Branching and Merging II: Resolving Merge Conflicts"
   ]
  },
  {
   "cell_type": "markdown",
   "metadata": {},
   "source": [
    "## Resolving Merge Conflicts\n",
    "\n",
    "1. Merge Conflict Overview\n",
    "    - Merge conflicts occur when a person needs to make a decision\n",
    "    - We will see this if we have two different branches and then, we create new features in each of the new branches. \n",
    "    - When a Merge Commit is pushed, Git will return a merge conflict because two different branches change the same part of a file in two different ways\n",
    "    - Not a Merge Conflict\n",
    "        - <img src=\"./images/git_30.png\" width=\"200\">\n",
    "    - Automatically Merging Changes\n",
    "        - Git can automatically merge changes to different parts (hunks) of files. This can occur if two different changes occur and one each branch did changes to improve specific feautures. Git is smart enough to know it does not want to commit the part of the code in the branch that is not fixed.\n",
    "        - <img src=\"./images/git_31.png\" width=\"200\">\n",
    "    - Avoid Merge Conflicts\n",
    "        - Git merges are usually quite easy\n",
    "        - Small, frequent merges are the easiest\n",
    "        \n",
    "        \n",
    "2. Resolving a Merge Conflict\n",
    "    - Involves three commits:\n",
    "        1. The tip of the current branch (B) - or it can called \"ours\" or \"mine\"\n",
    "        2. The tip of the branch to be merged (C) - \"theirs\"\n",
    "        3. A common ancestor (A) - \"merge base\"\n",
    "    - <img src=\"./images/git_32.png\" width=\"200\">\n",
    "    - Basic Steps to Resolve a Merge Conflict\n",
    "        - Checkout master\n",
    "        - Merge featureX\n",
    "            - Conflict - Both modified fileA.txt\n",
    "        - Fix fileA.txt\n",
    "        - Stage fileA.txt\n",
    "        - Commit the merge commit\n",
    "        - Delete the featureX branch label\n",
    "        - **When attempting a merge, files with conflcits are modified by Git and placed in the working tree**\n",
    "    - Reading Conflict Markets\n",
    "        - Text from the `HEAD` commit is between `<<<<` and `=====` \n",
    "        - Text from the branch to be merged is between `=====` and `>>>>>` \n",
    "        - <img src=\"./images/git_33.png\" width=\"200\">\n",
    "        - The issue is the Git does not know which feature to use and thus, it needs a human to make the decision\n",
    "    - Fixing a Conflicted File\n",
    "        - In the text editor, we have to make changes to the fileA.txt\n",
    "        - <img src=\"./images/git_34.png\" width=\"200\">"
   ]
  }
 ],
 "metadata": {
  "hide_input": false,
  "kernelspec": {
   "display_name": "Python 3",
   "language": "python",
   "name": "python3"
  },
  "language_info": {
   "codemirror_mode": {
    "name": "ipython",
    "version": 3
   },
   "file_extension": ".py",
   "mimetype": "text/x-python",
   "name": "python",
   "nbconvert_exporter": "python",
   "pygments_lexer": "ipython3",
   "version": "3.7.3"
  },
  "toc": {
   "base_numbering": 1,
   "nav_menu": {},
   "number_sections": false,
   "sideBar": true,
   "skip_h1_title": true,
   "title_cell": "Table of Contents",
   "title_sidebar": "Contents",
   "toc_cell": false,
   "toc_position": {},
   "toc_section_display": true,
   "toc_window_display": false
  },
  "varInspector": {
   "cols": {
    "lenName": 16,
    "lenType": 16,
    "lenVar": 40
   },
   "kernels_config": {
    "python": {
     "delete_cmd_postfix": "",
     "delete_cmd_prefix": "del ",
     "library": "var_list.py",
     "varRefreshCmd": "print(var_dic_list())"
    },
    "r": {
     "delete_cmd_postfix": ") ",
     "delete_cmd_prefix": "rm(",
     "library": "var_list.r",
     "varRefreshCmd": "cat(var_dic_list()) "
    }
   },
   "types_to_exclude": [
    "module",
    "function",
    "builtin_function_or_method",
    "instance",
    "_Feature"
   ],
   "window_display": false
  }
 },
 "nbformat": 4,
 "nbformat_minor": 2
}
