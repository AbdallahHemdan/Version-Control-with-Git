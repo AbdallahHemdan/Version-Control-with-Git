{
 "cells": [
  {
   "cell_type": "markdown",
   "metadata": {},
   "source": [
    "# Git Workflows: Pull Requests I"
   ]
  },
  {
   "cell_type": "markdown",
   "metadata": {},
   "source": [
    "## Pull Requests I\n",
    "\n",
    "1. Pull request overview\n",
    "    - A feature of Git hosting sites\n",
    "    - The ultimate goal is to merge a branch into the project\n",
    "    - Enable team communication related to the work of the branch\n",
    "        - Notifications sent to team members\n",
    "        - Feedback or comments\n",
    "        - Approval of the content (code review)\n",
    "    - There are two types of repo configurations: With a single repo or a multi-repo (which is a forked repo and an upstream repo)\n",
    "    - When do you open a pull request?\n",
    "        - When the branch is created, when you want comments on the branch or when the branch is ready for review\n",
    "\n",
    "\n",
    "2. Single repository pull requests\n",
    "    - Preparing for pull request (single repo)\n",
    "        - Create a feature branch\n",
    "        - Optionally work on the feature branch\n",
    "        - Push the branch to the remote repo\n",
    "   \n",
    "   \n",
    "  \n",
    "- **Forked Repo**: A fork is just a request for GitHub to clone the project and registers it under your username; GitHub also keeps track of the relationship between the two repositories, so you can visualize the commits and pulls between the two projects (and other forks)."
   ]
  },
  {
   "cell_type": "markdown",
   "metadata": {},
   "source": [
    "## Review: Pull Requests I\n",
    "- Pull requests are opened using an online Git host such as Bitbucket or GitHub\n",
    "- The ultimate goal of a pull request is to merge a branch but they also facilitate team discussion and approval\n",
    "- You can open a pull request any time after creating the branch\n",
    "- You do not need to edit the pull request if you add a commit to the branch\n",
    "- You can merge the pull request using an online Git host or by pushing the merge from your local client"
   ]
  }
 ],
 "metadata": {
  "hide_input": false,
  "kernelspec": {
   "display_name": "Python 3",
   "language": "python",
   "name": "python3"
  },
  "language_info": {
   "codemirror_mode": {
    "name": "ipython",
    "version": 3
   },
   "file_extension": ".py",
   "mimetype": "text/x-python",
   "name": "python",
   "nbconvert_exporter": "python",
   "pygments_lexer": "ipython3",
   "version": "3.7.3"
  },
  "toc": {
   "base_numbering": 1,
   "nav_menu": {},
   "number_sections": false,
   "sideBar": true,
   "skip_h1_title": true,
   "title_cell": "Table of Contents",
   "title_sidebar": "Contents",
   "toc_cell": false,
   "toc_position": {},
   "toc_section_display": true,
   "toc_window_display": false
  },
  "varInspector": {
   "cols": {
    "lenName": 16,
    "lenType": 16,
    "lenVar": 40
   },
   "kernels_config": {
    "python": {
     "delete_cmd_postfix": "",
     "delete_cmd_prefix": "del ",
     "library": "var_list.py",
     "varRefreshCmd": "print(var_dic_list())"
    },
    "r": {
     "delete_cmd_postfix": ") ",
     "delete_cmd_prefix": "rm(",
     "library": "var_list.r",
     "varRefreshCmd": "cat(var_dic_list()) "
    }
   },
   "types_to_exclude": [
    "module",
    "function",
    "builtin_function_or_method",
    "instance",
    "_Feature"
   ],
   "window_display": false
  }
 },
 "nbformat": 4,
 "nbformat_minor": 2
}
