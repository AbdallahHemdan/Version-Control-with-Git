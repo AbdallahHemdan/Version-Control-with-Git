{
 "cells": [
  {
   "cell_type": "markdown",
   "metadata": {},
   "source": [
    "# Branching and Merging II: Rewriting History"
   ]
  },
  {
   "cell_type": "markdown",
   "metadata": {},
   "source": [
    "## Rewriting History\n",
    "\n",
    "1. Amending a Commit\n",
    "    - You can change the most recent commit\n",
    "        - Change the commit message\n",
    "        - Change the project files\n",
    "    - This creates a new SHA-1 (rewrites history)\n",
    "    - `git commit --amend -m \"add fileC.txt\"`\n",
    "    - Optionally use the `--no edit` option to reuse the previous commit message\n",
    "    \n",
    "\n",
    "2. Interactive Rebase\n",
    "    - Interactive rebase lets you edit commit using commands \n",
    "        - The commits can belong to any branch\n",
    "        - **The commit history is changed -  do not use for shared commit**\n",
    "    - `git rebase -i <after-this-commit>`\n",
    "        - Commits in the current branch after `<after-this-commit>` are listed in an editor and can be modified\n",
    "    - <img src=\"./images/git_47.png\" width=\"400\">\n",
    "    - Interactive Rebase Option provides the following:\n",
    "        - <img src=\"./images/git_48.png\" width=\"200\">\n",
    "        - <img src=\"./images/git_49.png\" width=\"200\">\n",
    "    - Delete a Commit\n",
    "        - The commit's work is not used!\n",
    "    - Squash a Commit\n",
    "        - Applies a new (squashed) commit to an older commit\n",
    "        - Combines the commit messages\n",
    "        - Removes the newer commit\n",
    "        - *Note: A fixup is like a squash, but the squashed commit's message is discarded*\n",
    "    - Squash VS. Delete\n",
    "        - Squash: Combines this commit with the older commit, creating a single commit\n",
    "            - The work of both commits in included\n",
    "        - Delete: No changes from this commit are applied\n",
    "            - The diff thrown out\n",
    "            - The work of this commit is lost\n",
    "            - Greater change of a merge conflict\n",
    "\n",
    "\n",
    "3. Squash Merges\n",
    "    - Merges the tip of the feature branch (D) onto the top of the base branch (C) \n",
    "        - There is a chance of a merge conflict\n",
    "    - Places the results in the **staging area**\n",
    "    - The results can then be commited (E)\n",
    "    - <img src=\"./images/git_50.png\" width=\"200\">\n",
    "    - Feature Commits?\n",
    "        - After the **featureX** label is deleted, commits B and D are no longer part of any named branch\n",
    "        - A squash merge *rewrites the commit history*\n",
    "        - <img src=\"./images/git_51.png\" width=\"200\">\n",
    "    - Squash Merge Commands:\n",
    "        - `git checkout master` \n",
    "        - `git merge --squash featureX`\n",
    "        - `git commit`\n",
    "            - accept or modify the squash message\n",
    "        - `git branch -D featureX`\n",
    "    - Squash Merge with Fast-Forward\n",
    "        - `git checkout master`\n",
    "        - `git merge --squash featureX`\n",
    "        - `git commit`\n",
    "            - accept or modify the squash message\n",
    "        - `git branch -D featureX`\n",
    "        \n",
    "        \n",
    "- Review\n",
    "    - You can amend the most recent commit's message and/or commited files\n",
    "        - It creates a new SHA-1\n",
    "    - Interactive rebase allows you to rewrite the history of a branch\n",
    "    - A squash reduces multiple commits into a single commit"
   ]
  },
  {
   "cell_type": "markdown",
   "metadata": {},
   "source": [
    "## Review: Rewriting History\n",
    "- You can amend the most recent commit's message and/or commited files\n",
    "    - It creates a new SHA-1\n",
    "- Interactive rebase allows you to rewrite the history of a branch\n",
    "- A squash reduces multiple commits into a single commit\n"
   ]
  }
 ],
 "metadata": {
  "hide_input": false,
  "kernelspec": {
   "display_name": "Python 3",
   "language": "python",
   "name": "python3"
  },
  "language_info": {
   "codemirror_mode": {
    "name": "ipython",
    "version": 3
   },
   "file_extension": ".py",
   "mimetype": "text/x-python",
   "name": "python",
   "nbconvert_exporter": "python",
   "pygments_lexer": "ipython3",
   "version": "3.7.3"
  },
  "toc": {
   "base_numbering": 1,
   "nav_menu": {},
   "number_sections": false,
   "sideBar": true,
   "skip_h1_title": true,
   "title_cell": "Table of Contents",
   "title_sidebar": "Contents",
   "toc_cell": false,
   "toc_position": {},
   "toc_section_display": true,
   "toc_window_display": false
  },
  "varInspector": {
   "cols": {
    "lenName": 16,
    "lenType": 16,
    "lenVar": 40
   },
   "kernels_config": {
    "python": {
     "delete_cmd_postfix": "",
     "delete_cmd_prefix": "del ",
     "library": "var_list.py",
     "varRefreshCmd": "print(var_dic_list())"
    },
    "r": {
     "delete_cmd_postfix": ") ",
     "delete_cmd_prefix": "rm(",
     "library": "var_list.r",
     "varRefreshCmd": "cat(var_dic_list()) "
    }
   },
   "types_to_exclude": [
    "module",
    "function",
    "builtin_function_or_method",
    "instance",
    "_Feature"
   ],
   "window_display": false
  }
 },
 "nbformat": 4,
 "nbformat_minor": 2
}
