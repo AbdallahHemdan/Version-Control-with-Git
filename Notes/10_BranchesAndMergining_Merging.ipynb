{
 "cells": [
  {
   "cell_type": "markdown",
   "metadata": {},
   "source": [
    "# Branching and Merging I: Merging"
   ]
  },
  {
   "cell_type": "markdown",
   "metadata": {},
   "source": [
    "## Merging\n",
    "\n",
    "1. Merging Overview\n",
    "    - Main Types of Merges: Fast-forward merge, merge commit, squash merge, rebase\n",
    "    - <img src=\"./images/git_23.png\" width=\"300\">\n",
    "    - In the screenshot above, commit M is the commit that contains the merge from featureX (its a bit weird the pointing direction of the arrows)\n",
    "\n",
    "\n",
    "2. Fast-Forward Merges\n",
    "    - Moves the base branch label to the tip of the topic branch\n",
    "        - <img src=\"./images/git_24.png\" width=\"300\">\n",
    "    - This is an easy method where we move the reference to the lastest change from the new branch reference\n",
    "    - However, for a Fast-Forward Merge to be possible, no other commits could have been made to the base branch since branching\n",
    "    - For example, if the screenshot below, we notice that there have commits after commit B and thus, using a Fast-Forward Merge cannot be possible\n",
    "        - <img src=\"./images/git_25.png\" width=\"200\">\n",
    "    - Performing a Fast-Forward Merge\n",
    "        - `git checkout master`\n",
    "        - `git merge featureX #Attempting a fast forward merge is the default`\n",
    "        - `git branch -d featureX`\n",
    "        - <img src=\"./images/git_26.png\" width=\"400\">\n",
    "    - Why delete a Feature Branch Label?\n",
    "        - It prevents a continous increase in the number of merged branch labels\n",
    "        - Dealing with an ever increasing number of feature branch labels can be confusing\n",
    "    - Linear Commit History\n",
    "        - The resulting commit history is linear\n",
    "        - There are no commits that have multiple parents\n",
    "  \n",
    "\n",
    "3. Merge Commits\n",
    "    - Combines the commits at the tips of the merged branches\n",
    "    - Places the result in the merge commit\n",
    "    - Keep in my mind that combining the work of multiple commits may result in what's called a merge conflict\n",
    "    - <img src=\"./images/git_27.png\" width=\"200\">\n",
    "    - In the screenshot above, notice how there were a few more commits that occured after the commits in the feature branch label and thus, we will include these new commits in the new commit M\n",
    "    - A no fast-forward merge means that a merge commit will always be created, even if the merge is fast-forwardable\n",
    "        - `git merge --no-ff featureX`\n",
    "    - Merging Long-Running Branches\n",
    "        - These merges are typically easy because they are fast-forwardable\n"
   ]
  },
  {
   "cell_type": "markdown",
   "metadata": {},
   "source": [
    "## Review: Merging\n",
    "- Merging combines the work of multiple branches\n",
    "- A fast-forward merge moves the base branch label to the top of the topic branch\n",
    "- A merge is fast-forwardable if no other commits have been made to the base branch since branching\n",
    "- A merge commit is the result of combining the work of multiple commits\n",
    "- A merge commit has multiple parents\n",
    "- <img src=\"./images/git_28.png\" width=\"200\">"
   ]
  }
 ],
 "metadata": {
  "hide_input": false,
  "kernelspec": {
   "display_name": "Python 3",
   "language": "python",
   "name": "python3"
  },
  "language_info": {
   "codemirror_mode": {
    "name": "ipython",
    "version": 3
   },
   "file_extension": ".py",
   "mimetype": "text/x-python",
   "name": "python",
   "nbconvert_exporter": "python",
   "pygments_lexer": "ipython3",
   "version": "3.7.3"
  },
  "toc": {
   "base_numbering": 1,
   "nav_menu": {},
   "number_sections": false,
   "sideBar": true,
   "skip_h1_title": true,
   "title_cell": "Table of Contents",
   "title_sidebar": "Contents",
   "toc_cell": false,
   "toc_position": {},
   "toc_section_display": true,
   "toc_window_display": false
  },
  "varInspector": {
   "cols": {
    "lenName": 16,
    "lenType": 16,
    "lenVar": 40
   },
   "kernels_config": {
    "python": {
     "delete_cmd_postfix": "",
     "delete_cmd_prefix": "del ",
     "library": "var_list.py",
     "varRefreshCmd": "print(var_dic_list())"
    },
    "r": {
     "delete_cmd_postfix": ") ",
     "delete_cmd_prefix": "rm(",
     "library": "var_list.r",
     "varRefreshCmd": "cat(var_dic_list()) "
    }
   },
   "types_to_exclude": [
    "module",
    "function",
    "builtin_function_or_method",
    "instance",
    "_Feature"
   ],
   "window_display": false
  }
 },
 "nbformat": 4,
 "nbformat_minor": 2
}
