{
 "cells": [
  {
   "cell_type": "markdown",
   "metadata": {},
   "source": [
    "# Branching and Merging I: Git Ids"
   ]
  },
  {
   "cell_type": "markdown",
   "metadata": {},
   "source": [
    "## Git IDs\n",
    "\n",
    "1. Git Objects:\n",
    "    - Git uses object to store four types of things\n",
    "        - 1: Commit object - A small text file\n",
    "        - 2: Annoted tags - A permanent reference to a commit\n",
    "        - 3: Tree - Directories and filenames in the project\n",
    "        - 4: Blob - The content of a file in the project\n",
    "    - For the most part, as a user, we will be deailg with item number 1 and 2.\n",
    "    - A Git object's name is also known as its Git ID.\n",
    "    - **Git places only four types of objects in the object store: the blobs, trees, commits, and tags.**\n",
    "    \n",
    "    \n",
    "2. Git ID\n",
    "    - The name of a Git object\n",
    "    - 40-character hexadecimal string\n",
    "    - Also known as *object ID, SHA-1, hash, and checksum*\n",
    "    - Git IDS are *SHA-1 values*\n",
    "    - These ids are unique as its virually impossible to have two *SHA-1 values* that represent the same object\n",
    "    - Small changes in the content lead to large changes in the *SHA-1 values*\n",
    "    - **SHA-1 hashes are designed to avalanche. A slight change in content leads to a drastic change in the SHA-1 hash.**\n",
    "  \n",
    "  \n",
    "3. Shortening Git IDs\n",
    "    - To not write the entire name of the object, you are ale to only work with the first four characters... only if there's only one object that begins with the first four characters\n",
    "    \n"
   ]
  },
  {
   "cell_type": "markdown",
   "metadata": {},
   "source": [
    "## Review: Git IDs\n",
    "- Git object names are also knowns as Git IDs\n",
    "- Git objects are named with SHA-1 values\n",
    "- SHA-1 values are unique for a given piece of content (statistically speaking)\n",
    "- Git IDs are often shortened to the first four or more characters"
   ]
  }
 ],
 "metadata": {
  "hide_input": false,
  "kernelspec": {
   "display_name": "Python 3",
   "language": "python",
   "name": "python3"
  },
  "language_info": {
   "codemirror_mode": {
    "name": "ipython",
    "version": 3
   },
   "file_extension": ".py",
   "mimetype": "text/x-python",
   "name": "python",
   "nbconvert_exporter": "python",
   "pygments_lexer": "ipython3",
   "version": "3.7.3"
  },
  "toc": {
   "base_numbering": 1,
   "nav_menu": {},
   "number_sections": false,
   "sideBar": true,
   "skip_h1_title": true,
   "title_cell": "Table of Contents",
   "title_sidebar": "Contents",
   "toc_cell": false,
   "toc_position": {},
   "toc_section_display": true,
   "toc_window_display": false
  },
  "varInspector": {
   "cols": {
    "lenName": 16,
    "lenType": 16,
    "lenVar": 40
   },
   "kernels_config": {
    "python": {
     "delete_cmd_postfix": "",
     "delete_cmd_prefix": "del ",
     "library": "var_list.py",
     "varRefreshCmd": "print(var_dic_list())"
    },
    "r": {
     "delete_cmd_postfix": ") ",
     "delete_cmd_prefix": "rm(",
     "library": "var_list.r",
     "varRefreshCmd": "cat(var_dic_list()) "
    }
   },
   "types_to_exclude": [
    "module",
    "function",
    "builtin_function_or_method",
    "instance",
    "_Feature"
   ],
   "window_display": false
  }
 },
 "nbformat": 4,
 "nbformat_minor": 2
}
