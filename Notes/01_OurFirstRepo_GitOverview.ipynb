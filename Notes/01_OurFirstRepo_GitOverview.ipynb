{
 "cells": [
  {
   "cell_type": "markdown",
   "metadata": {},
   "source": [
    "# Our First Repository - Git Overview"
   ]
  },
  {
   "cell_type": "markdown",
   "metadata": {},
   "source": [
    "## Git Overview\n",
    "\n",
    "1. Version control overview:\n",
    "    - Content: Complete history tracked and available at any time\n",
    "    - Teams: It allows team to have an excellent workflow. It supports many workflows and colloboration. Lastly, it produces quality through team and communication and reviews.\n",
    "   - Agility: It manages small changes and it easily can make update and undo changes.\n",
    "   - Type of Content:\n",
    "       - It is commonly used for managing the source code related to software projects\n",
    "       - Automated tests\n",
    "       - Server configuration, used by IT teams\n",
    "       - Documentation\n",
    "       - A book\n",
    "       - Web site content\n",
    "   - Distributed Version Control System (DVCS)\n",
    "       - A DVCS usually has these characteristics:\n",
    "           - Each user has a local project history - repository\n",
    "           - Users can work offline because every user has a local copy\n",
    "           - Can easily synchronize repositiories bby pulling content from or pushing content to the remote repository\n",
    "           \n",
    "\n",
    "2. Git Overview:\n",
    "    - What is Git: \n",
    "        - Git is a distributed version control system\n",
    "        - Git is an open source software\n",
    "            - Has a vibrant community and ecosytem\n",
    "        - Adapts to many types of projects and workflows\n",
    "            - Works well for large or small projects\n",
    "    - What is a Git Repository?\n",
    "        - A series of snapshots, or commits\n",
    "        - <img src=\"./images/git_04.png\" width=\"200\">\n",
    "  \n",
    "  \n",
    "3. Command Line VS. User Interface\n",
    "    - Should you use the command line?\n",
    "        - Command line skills are assumed by the industry\n",
    "        - Command line = automatable (if something could be accomplished in the command line, then we are able to automated it)\n",
    "        - It is also fast and easy\n",
    "        \n",
    "    \n",
    "- Basic Git Syntax:\n",
    "    - `git [command] [--flags] [arguments]`\n",
    "    - `- or --` represents flags:\n",
    "        - For the flags arguments, it could be either a single or double dash\n",
    "        - Flags are also called options or switches\n",
    "    - `|` represents OR\n",
    "    - `[]` represents optional values\n",
    "    - `<>` represents placeholder\n",
    "    - `[<>]` represents optional placeholder\n",
    "    - `()` represents grouping\n",
    "    - `...` represents that multiple occurences is possible\n",
    "        - Example: `[<paths>...]`"
   ]
  },
  {
   "cell_type": "markdown",
   "metadata": {},
   "source": [
    "## Review: Git Overview\n",
    "- Version control eneables teams to manage a collection of files in an agile way\n",
    "- Git is a distributed version control system\n",
    "    - Each user has a local copy of a Git repository\n",
    "- A repository contains the project history as commits\n",
    "    - A commit is a snapshot of the entire project (the features that existed at the point in time)\n",
    "- You have the choice of working with Git using a command line and/or a graphical interface\n"
   ]
  },
  {
   "cell_type": "code",
   "execution_count": null,
   "metadata": {},
   "outputs": [],
   "source": []
  },
  {
   "cell_type": "markdown",
   "metadata": {},
   "source": [
    "## Git Locations\n",
    "\n",
    "- Git Locations\n",
    "    - Project Directory:\n",
    "        - Working Tree: A single commit's directories and files\n",
    "            - A working tree is as all the required files/directories to run for the project at the given snapshot \n",
    "        - Staging Area: Files that are planned for the next commit \n",
    "        - Local Repository: Contains all the commits of the project on your local computer\n",
    "    - The project directory contains a hidden directory, \".git\", this is where the local repo and the staging area are located. \n",
    "    - Remote Repository: \n",
    "        - Contains the commits of the project"
   ]
  },
  {
   "cell_type": "markdown",
   "metadata": {},
   "source": [
    "## Commit to a Local Repository\n",
    "\n",
    "- `git status`\n",
    "    - Use `git status` to view the status of files in a working tree and staging area\n",
    "    - A quick example `git status -s`, allows us to get the status but in shorter statement\n",
    "- `git add`\n",
    "    - Use `git add` to add files or directories to the staging area\n",
    "- `git commit` \n",
    "    - Adds staged content to the local repository as a commit\n",
    "    - Previously committed files are also included\n",
    "    - Created a snapshot of the entire project\n",
    "    - Another reminder is that the the `-m` simply means a flag for message (`git commit -m \"message\"`)\n",
    "- `git log`\n",
    "    - Use `git log` to view the history of the commit\n",
    "    - `git log --oneline` to view the limit the history of the commit to the most recent\n",
    "    - `git log --oneline -2` where \"2\" represents the the number of commits you desired to print\n",
    "    \n",
    "<img src=\"./images/git_05.png\" width=\"400\">"
   ]
  },
  {
   "cell_type": "markdown",
   "metadata": {},
   "source": [
    "## Create a Remote Repository\n",
    "\n",
    "- A remote repository is often a \"bare\" repository\n",
    "- By convention, remote repository ends with .git"
   ]
  },
  {
   "cell_type": "markdown",
   "metadata": {},
   "source": [
    "## Push to a Remote Repository\n",
    "\n",
    "- There are two methods to start with a remote repository\n",
    "    - Is it local?\n",
    "        - No: Then you would need to `clone` the remote repository\n",
    "        - Yes: Then you would need to `add` the remote repository\n",
    "\n",
    "\n",
    "**REMOTE REPO TO LOCAL REPO**\n",
    "- `git clone`\n",
    "    - Used to create a local copy of the remote repository\n",
    "    - <img src=\"./images/git_06.png\" width=\"200\">\n",
    "\n",
    "- `git remote --v` (v stands for verbose)\n",
    "    - Displays information about remote repositories associated with the local repository\n",
    "\n",
    "\n",
    "**LOCAL REPO TO REMOTE REPO**\n",
    "- `git remote add <name> <url>`\n",
    "- `git push`\n",
    "    - `git push` writes commits for a branch to a remote repository\n",
    "    - <img src=\"./images/git_07.png\" width=\"300\">\n",
    "- `git push [-u] [<repository>] [<branch>]`\n",
    "    - `-u` sets up a tracking relationship between the local and remote branches\n",
    "    - `-u` sets the default remote branch for the current local branch.\n",
    "\n"
   ]
  }
 ],
 "metadata": {
  "hide_input": false,
  "kernelspec": {
   "display_name": "Python 3",
   "language": "python",
   "name": "python3"
  },
  "language_info": {
   "codemirror_mode": {
    "name": "ipython",
    "version": 3
   },
   "file_extension": ".py",
   "mimetype": "text/x-python",
   "name": "python",
   "nbconvert_exporter": "python",
   "pygments_lexer": "ipython3",
   "version": "3.7.3"
  },
  "toc": {
   "base_numbering": 1,
   "nav_menu": {},
   "number_sections": false,
   "sideBar": true,
   "skip_h1_title": true,
   "title_cell": "Table of Contents",
   "title_sidebar": "Contents",
   "toc_cell": false,
   "toc_position": {},
   "toc_section_display": true,
   "toc_window_display": false
  },
  "varInspector": {
   "cols": {
    "lenName": 16,
    "lenType": 16,
    "lenVar": 40
   },
   "kernels_config": {
    "python": {
     "delete_cmd_postfix": "",
     "delete_cmd_prefix": "del ",
     "library": "var_list.py",
     "varRefreshCmd": "print(var_dic_list())"
    },
    "r": {
     "delete_cmd_postfix": ") ",
     "delete_cmd_prefix": "rm(",
     "library": "var_list.r",
     "varRefreshCmd": "cat(var_dic_list()) "
    }
   },
   "types_to_exclude": [
    "module",
    "function",
    "builtin_function_or_method",
    "instance",
    "_Feature"
   ],
   "window_display": false
  }
 },
 "nbformat": 4,
 "nbformat_minor": 2
}
