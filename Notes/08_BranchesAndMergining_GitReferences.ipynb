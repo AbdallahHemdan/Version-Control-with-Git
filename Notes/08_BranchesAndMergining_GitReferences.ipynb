{
 "cells": [
  {
   "cell_type": "markdown",
   "metadata": {},
   "source": [
    "# Branching and Merging I: Git References"
   ]
  },
  {
   "cell_type": "markdown",
   "metadata": {},
   "source": [
    "## Git References\n",
    "\n",
    "1. Overview of References\n",
    "    - A reference is simply a file stored somewhere in .git/refs, containing the hash of a commit object\n",
    "    - References is an indirect way of referring to a commit. You can think of it as a user-friendly alias for a commit hash\n",
    "    - User-friendly name that either points to:\n",
    "        - a commit SHA-1 hash\n",
    "        - another reference; known as a *symbolic reference*\n",
    "        - <img src=\"./images/git_15.png\" width=\"400\">\n",
    "        - Notice that we can use the `git show` with either the SHA-1 hash, part of the SHA-1 hash, the master reference or the HEAD reference\n",
    "\n",
    "\n",
    "2. Branch labels and HEAD\n",
    "    - Master is the default name of the main branch in the repository\n",
    "    - Branch label points to the most recent commit in the branch (the tip of the branch)\n",
    "    - Implemented as a reference\n",
    "    - <img src=\"./images/git_16.png\" width=\"200\">\n",
    "    - Note that while there could be many commits in the master branch, there's only one branch label (the most recent commit). Thus, a branch in Git is implemented as a tiny branch label, branches are simple to implement and use very few resources\n",
    "        - **Head**: A reference to the current commit. Usually point to the branch label of the current branch\n",
    "        - One *HEAD* per repository\n",
    "        - <img src=\"./images/git_17.png\" width=\"200\">\n",
    "        - In the image above, there are three commits on the master branch\n",
    "        - The master branch label reference points to the most recent commit\n",
    "        - The *HEAD* reference points to the master branch label\n",
    "       \n",
    "    \n",
    "3. Reference prior commits with - and ^\n",
    "    - Appending Tilde (~) to Git IDS and References:\n",
    "        - Refers to a prior commit\n",
    "            - `~`or `~1` = parent\n",
    "            - `~2` or `~~`= parent's parent\n",
    "            - Below is a screenshot of examples\n",
    "            - <img src=\"./images/git_18.png\" width=\"400\">\n",
    "            - `git show HEAD` -> `commit c8b6334ae0d8b33abb72efe264734e2356fd54a8`\n",
    "            - `git show HEAD~` -> `commit f3ed154ffff801aac7cb2afc5f4be05dae99ff86`\n",
    "            - `git show master~3` -> `commit 7090ba6792535f95edcc937ef918e48dffcb6f8b` since the HEAD is always the first reference and the second reference is master.\n",
    "        - Refers to a parent in a merge commit (`^parentnum`)\n",
    "            - `^` or `^1` first parent of the commit\n",
    "            - `^2` second parent of a merge commit\n",
    "            - `^^` first parent's first parent\n",
    "            - Use the screenshot above to view the exact implementation of the `^`... it simply refers to the actual branch\n",
    "            - `git show master^` -> `commit f3ed154ffff801aac7cb2afc5f4be05dae99ff86`\n",
    "            - `git show HEAD^2` -> It attempts to refer the HEAD's parent... but there's isnt'\n",
    "            - `git show HEAD^^` -> `commit ccfbe4f0dbae9c620a1fb86b4ff9fc4fdbcb2f36` \n",
    " \n",
    " \n",
    "4. Tags\n",
    "    - A tag is a reference attached to a specific commit\n",
    "    - It acts as a user-friendly label for the commit\n",
    "        - Example: Specifying the version of the commit \n",
    "    - Types of Tags:\n",
    "        - Lightweight: \n",
    "            - A simple reference to a commit\n",
    "        - Annotated: \n",
    "            - A full Git object that references a commit\n",
    "            - Includes tag author information, tag date, tag message, the commit ID\n",
    "            - Optionally can be signed and verified with GNU Privacy Guard (GPG)\n",
    "        - In general, annotated tags are recommended over lightweight tags because they are true Git objects and offer more capabilities\n",
    "    - Viewing and Using Tags:\n",
    "        - `git tag` - View all tags in the repository\n",
    "        - Tags can be used instead of branch labels or Git IDS in Git Commands\n",
    "    - Creating a Lightweight Tag:\n",
    "        - To tag a commit with a lightweight tag:\n",
    "            - `git tag <tagname> [<commit>]`\n",
    "            - `<commit>` defaults to `HEAD`\n",
    "    - Creating an Annotated Tag:\n",
    "        - To tag a commit with an annotated tag:\n",
    "            - `git tag -a [-m <msg> | -F <file>] <tagname> [<commit>]`\n",
    "            - `<commit>` defaults to `HEAD`\n",
    "            - Adding the flag `-a` specifies to create a Git Object... or an Annotated Tag\n",
    "            - You must specify a tag message, which could be done in 3 ways:\n",
    "                - Adding the flag `-m` is used to specify a tag message of ...\n",
    "                - The second is to pass the capital `-F` flag specifying a file which contains the tag message\n",
    "                - The third way is not to specify either a flag; in which an editor opens up and you specify the tag message in the editor\n",
    "            - `git show` displays the tag object information followed by the commit information\n",
    "    - Tags and Remote Repositories\n",
    "        - `git push` does not automatically transfer tags to the remote repository\n",
    "        - To transfer a single tag:\n",
    "            - `git push <remote> <tagname>`\n",
    "        - To transfer all of your tags:\n",
    "            - `git push <remote> --tags`\n",
    "    \n",
    "    "
   ]
  }
 ],
 "metadata": {
  "hide_input": false,
  "kernelspec": {
   "display_name": "Python 3",
   "language": "python",
   "name": "python3"
  },
  "language_info": {
   "codemirror_mode": {
    "name": "ipython",
    "version": 3
   },
   "file_extension": ".py",
   "mimetype": "text/x-python",
   "name": "python",
   "nbconvert_exporter": "python",
   "pygments_lexer": "ipython3",
   "version": "3.7.3"
  },
  "toc": {
   "base_numbering": 1,
   "nav_menu": {},
   "number_sections": false,
   "sideBar": true,
   "skip_h1_title": true,
   "title_cell": "Table of Contents",
   "title_sidebar": "Contents",
   "toc_cell": false,
   "toc_position": {},
   "toc_section_display": true,
   "toc_window_display": false
  },
  "varInspector": {
   "cols": {
    "lenName": 16,
    "lenType": 16,
    "lenVar": 40
   },
   "kernels_config": {
    "python": {
     "delete_cmd_postfix": "",
     "delete_cmd_prefix": "del ",
     "library": "var_list.py",
     "varRefreshCmd": "print(var_dic_list())"
    },
    "r": {
     "delete_cmd_postfix": ") ",
     "delete_cmd_prefix": "rm(",
     "library": "var_list.r",
     "varRefreshCmd": "cat(var_dic_list()) "
    }
   },
   "types_to_exclude": [
    "module",
    "function",
    "builtin_function_or_method",
    "instance",
    "_Feature"
   ],
   "window_display": false
  }
 },
 "nbformat": 4,
 "nbformat_minor": 2
}
