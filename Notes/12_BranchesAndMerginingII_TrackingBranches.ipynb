{
 "cells": [
  {
   "cell_type": "markdown",
   "metadata": {},
   "source": [
    "# Branching and Merging II: Tracking Branches"
   ]
  },
  {
   "cell_type": "markdown",
   "metadata": {},
   "source": [
    "## Tracking Branches\n",
    "\n",
    "1. Tracking Branch Overview\n",
    "    - A local branch that represents a remote branch (`<remove>/<branch>`)\n",
    "    - A remote branch that is clone to a the local machine will have everything that the remote branch contains (references and commits) with the addition of a reference to the remote master branch (the branch label that the remote referenced to before the clone)\n",
    "    - <img src=\"./images/git_35.png\" width=\"400\">\n",
    "    - Notice that there could be three master branch label could point to three different commits: the local master branch, the remote master branch, and the master tracking branch\n",
    "        - This occurs because there is no way that the remote and local repo can communicate with one another (unless they are clone, push, fetch, or pull)\n",
    "        - <img src=\"./images/git_36.png\" width=\"400\">\n",
    "\n",
    "\n",
    "2. Viewing Tracking Branch Names\n",
    "    - `git branch --all`: Displays local and tracking branch names\n",
    "    - <img src=\"./images/git_37.png\" width=\"400\">\n",
    "    - In the image above, only the first and third line represent unique branches\n",
    "    - The second line references a symbolic link to an existing branch\n",
    "    - The second line actuall branch is the branch that is after the arrow (->)\n",
    "    - `remote/origin/master`: where origin is alias for the remote URL. It tracks the lates commit from the remote repo\n",
    "    - `master`: Points to the latest local repo\n",
    "    - `remote/origin/HEAD`: It appears that the only use of this is to refer to `origin/master` and thus, can be reference without stating `origin/master` but just `origin`\n",
    "    \n",
    "    \n",
    "3. Changing `remotes/origin/HEAD`\n",
    "    - We can change the default remote tracking branch... `git remote set-head <remote> <branch>` where remote is \"origin\" and branch is \"develop\"\n",
    "    \n",
    "\n",
    "4. Viewing Tracking Branch Status\n",
    "    - `git status` includes tracking branch status\n",
    "    - `git status` will inform you if the cached tracking branch information is out of synch with your local branch\n",
    "    - <img src=\"./images/git_38.png\" width=\"400\">\n",
    "    - Notice how the command line states that the local repo is ahead of the remote repo by 1 commit\n",
    "    - Use `git log --all` to see a combine log of all local and tracking branches\n",
    "    - <img src=\"./images/git_39.png\" width=\"400\">\n",
    "    - In the screenshot above, we can see that the local repo (`HEAD -> master`) is ahead of the remote repo (`origin/master`) by one commit (or one feature)\n",
    "    "
   ]
  }
 ],
 "metadata": {
  "hide_input": false,
  "kernelspec": {
   "display_name": "Python 3",
   "language": "python",
   "name": "python3"
  },
  "language_info": {
   "codemirror_mode": {
    "name": "ipython",
    "version": 3
   },
   "file_extension": ".py",
   "mimetype": "text/x-python",
   "name": "python",
   "nbconvert_exporter": "python",
   "pygments_lexer": "ipython3",
   "version": "3.7.3"
  },
  "toc": {
   "base_numbering": 1,
   "nav_menu": {},
   "number_sections": false,
   "sideBar": true,
   "skip_h1_title": true,
   "title_cell": "Table of Contents",
   "title_sidebar": "Contents",
   "toc_cell": false,
   "toc_position": {},
   "toc_section_display": true,
   "toc_window_display": false
  },
  "varInspector": {
   "cols": {
    "lenName": 16,
    "lenType": 16,
    "lenVar": 40
   },
   "kernels_config": {
    "python": {
     "delete_cmd_postfix": "",
     "delete_cmd_prefix": "del ",
     "library": "var_list.py",
     "varRefreshCmd": "print(var_dic_list())"
    },
    "r": {
     "delete_cmd_postfix": ") ",
     "delete_cmd_prefix": "rm(",
     "library": "var_list.r",
     "varRefreshCmd": "cat(var_dic_list()) "
    }
   },
   "types_to_exclude": [
    "module",
    "function",
    "builtin_function_or_method",
    "instance",
    "_Feature"
   ],
   "window_display": false
  }
 },
 "nbformat": 4,
 "nbformat_minor": 2
}
