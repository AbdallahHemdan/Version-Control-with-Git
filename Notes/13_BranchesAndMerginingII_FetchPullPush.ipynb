{
 "cells": [
  {
   "cell_type": "markdown",
   "metadata": {},
   "source": [
    "# Branching and Merging II: Fetch, Pull, Push"
   ]
  },
  {
   "cell_type": "markdown",
   "metadata": {},
   "source": [
    "## Fetch, Pull, Push\n",
    "\n",
    "1. Network Command Overview\n",
    "    - Clone: Copies a remote repo\n",
    "    - Fetch: Retrievs new objects and references from the remote repo\n",
    "    - Pull: Fetches and merges commits locally\n",
    "    - Push: Adds new objects and references to the remote repo\n",
    "\n",
    "\n",
    "2. Fetch (`git fetch <repo>`)\n",
    "    - Retrieves new object and references from another repo (the example uses a remote repo)\n",
    "    - Tracking branches are updated\n",
    "    - <img src=\"./images/git_40.png\" width=\"400\">\n",
    "    - We are able to use the `git fetch` and pick on that there have been new changes made to the repo!\n",
    "    - We can use `git status` to get informed from the current branch is behind the tracking branch!\n",
    "    - The `git fetch` command downloads commits, files, and refs from a remote repository into your local repo.\n",
    "\n",
    "\n",
    "3. Pull\n",
    "    - Combines `git fetch` and `git merge FETCH_HEAD`\n",
    "        - If the objects are fetched, the tracking branch is merged inot the current local branch.\n",
    "        - The is similar to a topic branch merging into a base branch!\n",
    "        - <img src=\"./images/git_41.png\" width=\"400\">\n",
    "    - `git pull` Merging Options\n",
    "        - `--ff` (default) - fast-forward if possible, otherwise perform a merge commit\n",
    "        - `--no-ff` - always includes a merge commit\n",
    "        - `--ff-only` - cancel instead of doing a merge commit\n",
    "        - `--rebase [--preserve-merges]` - TBA\n",
    "\n",
    "\n",
    "4. Push (`git push [-u] [<repo>] [<branch>]`)\n",
    "    - `-u` Track this branch!\n",
    "\n",
    "\n",
    "**Fetching or pulling before you push is suggested**\n",
    "\n",
    "\n",
    "- Questions:\n",
    "    - What's the difference between git fetch and git pull?\n",
    "        - Before we talk about the differences between these two commands, let's stress their similarities: both are used to download new data from a remote repository.\n",
    "        - `git fetch` really only downloads new data from a remote repository but it doesn't integrate any of this new data into your working files. \n",
    "        - `git pull`, in contrast, is used with a different goal in mind: to update your current HEAD branch with the latest changes from the remote server."
   ]
  }
 ],
 "metadata": {
  "hide_input": false,
  "kernelspec": {
   "display_name": "Python 3",
   "language": "python",
   "name": "python3"
  },
  "language_info": {
   "codemirror_mode": {
    "name": "ipython",
    "version": 3
   },
   "file_extension": ".py",
   "mimetype": "text/x-python",
   "name": "python",
   "nbconvert_exporter": "python",
   "pygments_lexer": "ipython3",
   "version": "3.7.3"
  },
  "toc": {
   "base_numbering": 1,
   "nav_menu": {},
   "number_sections": false,
   "sideBar": true,
   "skip_h1_title": true,
   "title_cell": "Table of Contents",
   "title_sidebar": "Contents",
   "toc_cell": false,
   "toc_position": {},
   "toc_section_display": true,
   "toc_window_display": false
  },
  "varInspector": {
   "cols": {
    "lenName": 16,
    "lenType": 16,
    "lenVar": 40
   },
   "kernels_config": {
    "python": {
     "delete_cmd_postfix": "",
     "delete_cmd_prefix": "del ",
     "library": "var_list.py",
     "varRefreshCmd": "print(var_dic_list())"
    },
    "r": {
     "delete_cmd_postfix": ") ",
     "delete_cmd_prefix": "rm(",
     "library": "var_list.r",
     "varRefreshCmd": "cat(var_dic_list()) "
    }
   },
   "types_to_exclude": [
    "module",
    "function",
    "builtin_function_or_method",
    "instance",
    "_Feature"
   ],
   "window_display": false
  }
 },
 "nbformat": 4,
 "nbformat_minor": 2
}
